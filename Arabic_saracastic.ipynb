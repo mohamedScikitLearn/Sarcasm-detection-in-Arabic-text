{
  "nbformat": 4,
  "nbformat_minor": 0,
  "metadata": {
    "colab": {
      "name": "Arabic saracastic.ipynb",
      "provenance": []
    },
    "kernelspec": {
      "name": "python3",
      "display_name": "Python 3"
    },
    "accelerator": "GPU"
  },
  "cells": [
    {
      "cell_type": "code",
      "metadata": {
        "id": "5JiNOW6OL9P6",
        "colab": {
          "base_uri": "https://localhost:8080/",
          "height": 123
        },
        "outputId": "22e7d987-877e-4e91-e4d8-d5bce9de02a8"
      },
      "source": [
        "!git clone https://github.com/iabufarha/ArSarcasm.git"
      ],
      "execution_count": null,
      "outputs": [
        {
          "output_type": "stream",
          "text": [
            "Cloning into 'ArSarcasm'...\n",
            "remote: Enumerating objects: 82, done.\u001b[K\n",
            "remote: Counting objects:   1% (1/82)\u001b[K\rremote: Counting objects:   2% (2/82)\u001b[K\rremote: Counting objects:   3% (3/82)\u001b[K\rremote: Counting objects:   4% (4/82)\u001b[K\rremote: Counting objects:   6% (5/82)\u001b[K\rremote: Counting objects:   7% (6/82)\u001b[K\rremote: Counting objects:   8% (7/82)\u001b[K\rremote: Counting objects:   9% (8/82)\u001b[K\rremote: Counting objects:  10% (9/82)\u001b[K\rremote: Counting objects:  12% (10/82)\u001b[K\rremote: Counting objects:  13% (11/82)\u001b[K\rremote: Counting objects:  14% (12/82)\u001b[K\rremote: Counting objects:  15% (13/82)\u001b[K\rremote: Counting objects:  17% (14/82)\u001b[K\rremote: Counting objects:  18% (15/82)\u001b[K\rremote: Counting objects:  19% (16/82)\u001b[K\rremote: Counting objects:  20% (17/82)\u001b[K\rremote: Counting objects:  21% (18/82)\u001b[K\rremote: Counting objects:  23% (19/82)\u001b[K\rremote: Counting objects:  24% (20/82)\u001b[K\rremote: Counting objects:  25% (21/82)\u001b[K\rremote: Counting objects:  26% (22/82)\u001b[K\rremote: Counting objects:  28% (23/82)\u001b[K\rremote: Counting objects:  29% (24/82)\u001b[K\rremote: Counting objects:  30% (25/82)\u001b[K\rremote: Counting objects:  31% (26/82)\u001b[K\rremote: Counting objects:  32% (27/82)\u001b[K\rremote: Counting objects:  34% (28/82)\u001b[K\rremote: Counting objects:  35% (29/82)\u001b[K\rremote: Counting objects:  36% (30/82)\u001b[K\rremote: Counting objects:  37% (31/82)\u001b[K\rremote: Counting objects:  39% (32/82)\u001b[K\rremote: Counting objects:  40% (33/82)\u001b[K\rremote: Counting objects:  41% (34/82)\u001b[K\rremote: Counting objects:  42% (35/82)\u001b[K\rremote: Counting objects:  43% (36/82)\u001b[K\rremote: Counting objects:  45% (37/82)\u001b[K\rremote: Counting objects:  46% (38/82)\u001b[K\rremote: Counting objects:  47% (39/82)\u001b[K\rremote: Counting objects:  48% (40/82)\u001b[K\rremote: Counting objects:  50% (41/82)\u001b[K\rremote: Counting objects:  51% (42/82)\u001b[K\rremote: Counting objects:  52% (43/82)\u001b[K\rremote: Counting objects:  53% (44/82)\u001b[K\rremote: Counting objects:  54% (45/82)\u001b[K\rremote: Counting objects:  56% (46/82)\u001b[K\rremote: Counting objects:  57% (47/82)\u001b[K\rremote: Counting objects:  58% (48/82)\u001b[K\rremote: Counting objects:  59% (49/82)\u001b[K\rremote: Counting objects:  60% (50/82)\u001b[K\rremote: Counting objects:  62% (51/82)\u001b[K\rremote: Counting objects:  63% (52/82)\u001b[K\rremote: Counting objects:  64% (53/82)\u001b[K\rremote: Counting objects:  65% (54/82)\u001b[K\rremote: Counting objects:  67% (55/82)\u001b[K\rremote: Counting objects:  68% (56/82)\u001b[K\rremote: Counting objects:  69% (57/82)\u001b[K\rremote: Counting objects:  70% (58/82)\u001b[K\rremote: Counting objects:  71% (59/82)\u001b[K\rremote: Counting objects:  73% (60/82)\u001b[K\rremote: Counting objects:  74% (61/82)\u001b[K\rremote: Counting objects:  75% (62/82)\u001b[K\rremote: Counting objects:  76% (63/82)\u001b[K\rremote: Counting objects:  78% (64/82)\u001b[K\rremote: Counting objects:  79% (65/82)\u001b[K\rremote: Counting objects:  80% (66/82)\u001b[K\rremote: Counting objects:  81% (67/82)\u001b[K\rremote: Counting objects:  82% (68/82)\u001b[K\rremote: Counting objects:  84% (69/82)\u001b[K\rremote: Counting objects:  85% (70/82)\u001b[K\rremote: Counting objects:  86% (71/82)\u001b[K\rremote: Counting objects:  87% (72/82)\u001b[K\rremote: Counting objects:  89% (73/82)\u001b[K\rremote: Counting objects:  90% (74/82)\u001b[K\rremote: Counting objects:  91% (75/82)\u001b[K\rremote: Counting objects:  92% (76/82)\u001b[K\rremote: Counting objects:  93% (77/82)\u001b[K\rremote: Counting objects:  95% (78/82)\u001b[K\rremote: Counting objects:  96% (79/82)\u001b[K\rremote: Counting objects:  97% (80/82)\u001b[K\rremote: Counting objects:  98% (81/82)\u001b[K\rremote: Counting objects: 100% (82/82)\u001b[K\rremote: Counting objects: 100% (82/82), done.\u001b[K\n",
            "remote: Compressing objects:   1% (1/78)\u001b[K\rremote: Compressing objects:   2% (2/78)\u001b[K\rremote: Compressing objects:   3% (3/78)\u001b[K\rremote: Compressing objects:   5% (4/78)\u001b[K\rremote: Compressing objects:   6% (5/78)\u001b[K\rremote: Compressing objects:   7% (6/78)\u001b[K\rremote: Compressing objects:   8% (7/78)\u001b[K\rremote: Compressing objects:  10% (8/78)\u001b[K\rremote: Compressing objects:  11% (9/78)\u001b[K\rremote: Compressing objects:  12% (10/78)\u001b[K\rremote: Compressing objects:  14% (11/78)\u001b[K\rremote: Compressing objects:  15% (12/78)\u001b[K\rremote: Compressing objects:  16% (13/78)\u001b[K\rremote: Compressing objects:  17% (14/78)\u001b[K\rremote: Compressing objects:  19% (15/78)\u001b[K\rremote: Compressing objects:  20% (16/78)\u001b[K\rremote: Compressing objects:  21% (17/78)\u001b[K\rremote: Compressing objects:  23% (18/78)\u001b[K\rremote: Compressing objects:  24% (19/78)\u001b[K\rremote: Compressing objects:  25% (20/78)\u001b[K\rremote: Compressing objects:  26% (21/78)\u001b[K\rremote: Compressing objects:  28% (22/78)\u001b[K\rremote: Compressing objects:  29% (23/78)\u001b[K\rremote: Compressing objects:  30% (24/78)\u001b[K\rremote: Compressing objects:  32% (25/78)\u001b[K\rremote: Compressing objects:  33% (26/78)\u001b[K\rremote: Compressing objects:  34% (27/78)\u001b[K\rremote: Compressing objects:  35% (28/78)\u001b[K\rremote: Compressing objects:  37% (29/78)\u001b[K\rremote: Compressing objects:  38% (30/78)\u001b[K\rremote: Compressing objects:  39% (31/78)\u001b[K\rremote: Compressing objects:  41% (32/78)\u001b[K\rremote: Compressing objects:  42% (33/78)\u001b[K\rremote: Compressing objects:  43% (34/78)\u001b[K\rremote: Compressing objects:  44% (35/78)\u001b[K\rremote: Compressing objects:  46% (36/78)\u001b[K\rremote: Compressing objects:  47% (37/78)\u001b[K\rremote: Compressing objects:  48% (38/78)\u001b[K\rremote: Compressing objects:  50% (39/78)\u001b[K\rremote: Compressing objects:  51% (40/78)\u001b[K\rremote: Compressing objects:  52% (41/78)\u001b[K\rremote: Compressing objects:  53% (42/78)\u001b[K\rremote: Compressing objects:  55% (43/78)\u001b[K\rremote: Compressing objects:  56% (44/78)\u001b[K\rremote: Compressing objects:  57% (45/78)\u001b[K\rremote: Compressing objects:  58% (46/78)\u001b[K\rremote: Compressing objects:  60% (47/78)\u001b[K\rremote: Compressing objects:  61% (48/78)\u001b[K\rremote: Compressing objects:  62% (49/78)\u001b[K\rremote: Compressing objects:  64% (50/78)\u001b[K\rremote: Compressing objects:  65% (51/78)\u001b[K\rremote: Compressing objects:  66% (52/78)\u001b[K\rremote: Compressing objects:  67% (53/78)\u001b[K\rremote: Compressing objects:  69% (54/78)\u001b[K\rremote: Compressing objects:  70% (55/78)\u001b[K\rremote: Compressing objects:  71% (56/78)\u001b[K\rremote: Compressing objects:  73% (57/78)\u001b[K\rremote: Compressing objects:  74% (58/78)\u001b[K\rremote: Compressing objects:  75% (59/78)\u001b[K\rremote: Compressing objects:  76% (60/78)\u001b[K\rremote: Compressing objects:  78% (61/78)\u001b[K\rremote: Compressing objects:  79% (62/78)\u001b[K\rremote: Compressing objects:  80% (63/78)\u001b[K\rremote: Compressing objects:  82% (64/78)\u001b[K\rremote: Compressing objects:  83% (65/78)\u001b[K\rremote: Compressing objects:  84% (66/78)\u001b[K\rremote: Compressing objects:  85% (67/78)\u001b[K\rremote: Compressing objects:  87% (68/78)\u001b[K\rremote: Compressing objects:  88% (69/78)\u001b[K\rremote: Compressing objects:  89% (70/78)\u001b[K\rremote: Compressing objects:  91% (71/78)\u001b[K\rremote: Compressing objects:  92% (72/78)\u001b[K\rremote: Compressing objects:  93% (73/78)\u001b[K\rremote: Compressing objects:  94% (74/78)\u001b[K\rremote: Compressing objects:  96% (75/78)\u001b[K\rremote: Compressing objects:  97% (76/78)\u001b[K\rremote: Compressing objects:  98% (77/78)\u001b[K\rremote: Compressing objects: 100% (78/78)\u001b[K\rremote: Compressing objects: 100% (78/78), done.\u001b[K\n",
            "Unpacking objects:   1% (1/82)   \rUnpacking objects:   2% (2/82)   \rUnpacking objects:   3% (3/82)   \rUnpacking objects:   4% (4/82)   \rUnpacking objects:   6% (5/82)   \rUnpacking objects:   7% (6/82)   \rUnpacking objects:   8% (7/82)   \rUnpacking objects:   9% (8/82)   \rUnpacking objects:  10% (9/82)   \rUnpacking objects:  12% (10/82)   \rUnpacking objects:  13% (11/82)   \rUnpacking objects:  14% (12/82)   \rUnpacking objects:  15% (13/82)   \rUnpacking objects:  17% (14/82)   \rUnpacking objects:  18% (15/82)   \rUnpacking objects:  19% (16/82)   \rUnpacking objects:  20% (17/82)   \rUnpacking objects:  21% (18/82)   \rUnpacking objects:  23% (19/82)   \rUnpacking objects:  24% (20/82)   \rUnpacking objects:  25% (21/82)   \rUnpacking objects:  26% (22/82)   \rUnpacking objects:  28% (23/82)   \rUnpacking objects:  29% (24/82)   \rUnpacking objects:  30% (25/82)   \rUnpacking objects:  31% (26/82)   \rUnpacking objects:  32% (27/82)   \rUnpacking objects:  34% (28/82)   \rUnpacking objects:  35% (29/82)   \rUnpacking objects:  36% (30/82)   \rUnpacking objects:  37% (31/82)   \rUnpacking objects:  39% (32/82)   \rUnpacking objects:  40% (33/82)   \rUnpacking objects:  41% (34/82)   \rremote: Total 82 (delta 36), reused 0 (delta 0), pack-reused 0\u001b[K\n",
            "Unpacking objects:  42% (35/82)   \rUnpacking objects:  43% (36/82)   \rUnpacking objects:  45% (37/82)   \rUnpacking objects:  46% (38/82)   \rUnpacking objects:  47% (39/82)   \rUnpacking objects:  48% (40/82)   \rUnpacking objects:  50% (41/82)   \rUnpacking objects:  51% (42/82)   \rUnpacking objects:  52% (43/82)   \rUnpacking objects:  53% (44/82)   \rUnpacking objects:  54% (45/82)   \rUnpacking objects:  56% (46/82)   \rUnpacking objects:  57% (47/82)   \rUnpacking objects:  58% (48/82)   \rUnpacking objects:  59% (49/82)   \rUnpacking objects:  60% (50/82)   \rUnpacking objects:  62% (51/82)   \rUnpacking objects:  63% (52/82)   \rUnpacking objects:  64% (53/82)   \rUnpacking objects:  65% (54/82)   \rUnpacking objects:  67% (55/82)   \rUnpacking objects:  68% (56/82)   \rUnpacking objects:  69% (57/82)   \rUnpacking objects:  70% (58/82)   \rUnpacking objects:  71% (59/82)   \rUnpacking objects:  73% (60/82)   \rUnpacking objects:  74% (61/82)   \rUnpacking objects:  75% (62/82)   \rUnpacking objects:  76% (63/82)   \rUnpacking objects:  78% (64/82)   \rUnpacking objects:  79% (65/82)   \rUnpacking objects:  80% (66/82)   \rUnpacking objects:  81% (67/82)   \rUnpacking objects:  82% (68/82)   \rUnpacking objects:  84% (69/82)   \rUnpacking objects:  85% (70/82)   \rUnpacking objects:  86% (71/82)   \rUnpacking objects:  87% (72/82)   \rUnpacking objects:  89% (73/82)   \rUnpacking objects:  90% (74/82)   \rUnpacking objects:  91% (75/82)   \rUnpacking objects:  92% (76/82)   \rUnpacking objects:  93% (77/82)   \rUnpacking objects:  95% (78/82)   \rUnpacking objects:  96% (79/82)   \rUnpacking objects:  97% (80/82)   \rUnpacking objects:  98% (81/82)   \rUnpacking objects: 100% (82/82)   \rUnpacking objects: 100% (82/82), done.\n"
          ],
          "name": "stdout"
        }
      ]
    },
    {
      "cell_type": "code",
      "metadata": {
        "id": "t4kH88N6L_71"
      },
      "source": [
        "import pandas as pd\n",
        "train = pd.read_csv('/content/ArSarcasm/dataset/ArSarcasm_train.csv')"
      ],
      "execution_count": null,
      "outputs": []
    },
    {
      "cell_type": "code",
      "metadata": {
        "id": "MfSmeL4tMIHR"
      },
      "source": [
        "test=pd.read_csv('/content/ArSarcasm/dataset/ArSarcasm_test.csv')"
      ],
      "execution_count": null,
      "outputs": []
    },
    {
      "cell_type": "code",
      "metadata": {
        "id": "tmgsBIg2MJO5",
        "colab": {
          "base_uri": "https://localhost:8080/",
          "height": 196
        },
        "outputId": "dbeaa0c9-f884-4681-8e48-ce29f37db644"
      },
      "source": [
        "# Cleaning Data\n",
        "!pip install alphabet_detector\n",
        "import re\n",
        "from alphabet_detector import AlphabetDetector\n",
        "import string\n",
        "from bs4 import BeautifulSoup\n",
        "\n",
        "arabic_diacritics = re.compile(\"\"\"\n",
        "                             ّ    | # Tashdid\n",
        "                             َ    | # Fatha\n",
        "                             ً    | # Tanwin Fath\n",
        "                             ُ    | # Damma\n",
        "                             ٌ    | # Tanwin Damm\n",
        "                             ِ    | # Kasra\n",
        "                             ٍ    | # Tanwin Kasr\n",
        "                             ْ    | # Sukun\n",
        "                             ـ     # Tatwil/Kashida\n",
        "                         \"\"\", re.VERBOSE)\n",
        "\n",
        "\n",
        "def remove_diacritics(text):\n",
        "    text = re.sub(arabic_diacritics, '', text)\n",
        "    return text\n",
        "\n",
        "\n",
        "def remove_punctuation(s):\n",
        "    my_punctuations = string.punctuation + \"،\" + \"؛\" + \"؟\" + \"«\" + \"»\"\n",
        "    translator = str.maketrans('', '', my_punctuations)\n",
        "    return s.translate(translator)\n",
        "\n",
        "\n",
        "def remove_punctuation2(s): # replace punctuation with space\n",
        "    my_punctuations = string.punctuation + \"،\" + \"؛\" + \"؟\" + \"«\" + \"»\"\n",
        "    replace_table = str.maketrans(my_punctuations,  ' '*len(my_punctuations))\n",
        "    return s.translate(replace_table)\n",
        "\n",
        "\n",
        "def html2text(text):\n",
        "    soup = BeautifulSoup(text, 'html.parser')\n",
        "    return soup.get_text()\n",
        "\n",
        "\n",
        "def remove_links(text):\n",
        "    # return re.sub(r'\\s*(?:https?://)?www\\.\\S*\\.[A-Za-z]{2,5}\\s*', ' ', text, flags=re.MULTILINE).strip()\n",
        "    # return re.sub(r'^https?:\\/\\/.*[\\r\\n]*', '', clean_text, flags=re.MULTILINE)\n",
        "    return re.sub(r'(https|http)?:\\/\\/(\\w|\\.|\\/|\\?|\\=|\\&|\\%)*\\b', '', text, flags=re.MULTILINE)\n",
        "\n",
        "\n",
        "def remove_empty_lines(text):\n",
        "    lines = [s.rstrip() for s in text.split(\"\\n\") if s.rstrip()]\n",
        "    return '\\n'.join(lines)\n",
        "\n",
        "\n",
        "def remove_repeating_char(text):\n",
        "    return re.sub(r'(.)\\1+', r'\\1\\1', text)  # keep 2 repeat\n",
        "\n",
        "\n",
        "def keep_only_arabic(text):\n",
        "    ad = AlphabetDetector()\n",
        "    clean_lines = list()\n",
        "    for line in text.splitlines():\n",
        "        clean_line = list()\n",
        "        for word in line.split():\n",
        "            if len(word) > 1:\n",
        "                if ad.is_arabic(word):\n",
        "                    if word.isalpha():\n",
        "                        clean_line.append(word)\n",
        "        clean_lines.append(' '.join(clean_line))\n",
        "    return '\\n'.join(clean_lines)\n",
        "\n",
        "\n",
        "def clean_doc(text):\n",
        "    text = html2text(text)\n",
        "  \n",
        "    text = text.replace('(', ' ')\n",
        "    text = re.sub(\"^\\d+\\s|\\s\\d+\\s|\\s\\d+$\", \" \", text) # remove numbers\n",
        "    text = text.replace(')', ' ')\n",
        "    clean_text = remove_links(text)\n",
        "    clean_text = remove_diacritics(clean_text)\n",
        "    clean_text = remove_punctuation2(clean_text)\n",
        "    clean_text = keep_only_arabic(clean_text)\n",
        "    clean_text = remove_repeating_char(clean_text)\n",
        "    clean_text = remove_empty_lines(clean_text)\n",
        "    return clean_text\n"
      ],
      "execution_count": null,
      "outputs": [
        {
          "output_type": "stream",
          "text": [
            "Collecting alphabet_detector\n",
            "  Downloading https://files.pythonhosted.org/packages/f8/89/c9ab40530fb9142890a79bf39b6f2ee47c311729358794719acd15974e68/alphabet-detector-0.0.7.tar.gz\n",
            "Building wheels for collected packages: alphabet-detector\n",
            "  Building wheel for alphabet-detector (setup.py) ... \u001b[?25l\u001b[?25hdone\n",
            "  Created wheel for alphabet-detector: filename=alphabet_detector-0.0.7-cp36-none-any.whl size=2449 sha256=9cfb4a93d6bdd84af17fa41544ea21cf5224a4cca3319e193c951ef4e485e6ac\n",
            "  Stored in directory: /root/.cache/pip/wheels/75/a7/c3/faf515469622e565475fc96983418ba6e03f6a0f73755cd892\n",
            "Successfully built alphabet-detector\n",
            "Installing collected packages: alphabet-detector\n",
            "Successfully installed alphabet-detector-0.0.7\n"
          ],
          "name": "stdout"
        }
      ]
    },
    {
      "cell_type": "code",
      "metadata": {
        "id": "30bH7AdyMpZ-",
        "colab": {
          "base_uri": "https://localhost:8080/",
          "height": 70
        },
        "outputId": "9a8a6702-945a-45b8-f209-b49afc092100"
      },
      "source": [
        "train.columns"
      ],
      "execution_count": null,
      "outputs": [
        {
          "output_type": "execute_result",
          "data": {
            "text/plain": [
              "Index(['dialect', 'sarcasm', 'sentiment', 'original_sentiment', 'tweet',\n",
              "       'source'],\n",
              "      dtype='object')"
            ]
          },
          "metadata": {
            "tags": []
          },
          "execution_count": 8
        }
      ]
    },
    {
      "cell_type": "code",
      "metadata": {
        "id": "aMry0JBuKznJ"
      },
      "source": [
        "train['tweet']= train['tweet'].apply(clean_doc)"
      ],
      "execution_count": null,
      "outputs": []
    },
    {
      "cell_type": "code",
      "metadata": {
        "id": "cS2RD9AzZqrR"
      },
      "source": [
        "test['tweet']= test['tweet'].apply(clean_doc)"
      ],
      "execution_count": null,
      "outputs": []
    },
    {
      "cell_type": "code",
      "metadata": {
        "id": "bM4kq9SqKznS"
      },
      "source": [
        "X_train = train['tweet'].astype(str).values\n",
        "y_train = train['sarcasm'].values\n"
      ],
      "execution_count": null,
      "outputs": []
    },
    {
      "cell_type": "code",
      "metadata": {
        "id": "xcwcQ1XPKznW"
      },
      "source": [
        "\n",
        "\n",
        "X_val = test['tweet'].astype(str).values\n",
        "y_val = test['sarcasm'].values\n"
      ],
      "execution_count": null,
      "outputs": []
    },
    {
      "cell_type": "code",
      "metadata": {
        "id": "TrWRvGs-Kzna",
        "colab": {
          "base_uri": "https://localhost:8080/",
          "height": 90
        },
        "outputId": "e04ae524-c13a-4048-d4d7-3fa3d171f994"
      },
      "source": [
        "import pandas as pd\n",
        "import numpy as np\n",
        "import seaborn as sns\n",
        "import matplotlib.pyplot as plt\n",
        "from sklearn.feature_extraction.text import CountVectorizer\n",
        "from sklearn import feature_extraction, linear_model, model_selection, preprocessing\n",
        "from sklearn.metrics import accuracy_score\n",
        "from sklearn.model_selection import train_test_split\n",
        "from sklearn.feature_extraction.text import TfidfTransformer\n",
        "from sklearn.pipeline import Pipeline\n",
        "from sklearn.svm import LinearSVC\n",
        "from sklearn.linear_model import LogisticRegression\n",
        "from sklearn.naive_bayes import GaussianNB\n",
        "from sklearn.naive_bayes import BernoulliNB\n",
        "from sklearn.naive_bayes import MultinomialNB\n",
        "from sklearn.ensemble import GradientBoostingClassifier\n",
        "from sklearn.tree import DecisionTreeClassifier\n",
        "from sklearn.neighbors import KNeighborsClassifier\n",
        "from xgboost import XGBClassifier\n",
        "from sklearn.linear_model import SGDClassifier\n",
        "from sklearn.ensemble import RandomForestClassifier\n",
        "from sklearn.preprocessing import LabelEncoder\n",
        "from keras.models import Model\n",
        "from keras.layers import LSTM, Activation, Dense, Dropout, Input, Embedding\n",
        "\n",
        "\n",
        "\n",
        "import nltk\n",
        "import nltk as nlp\n",
        "import string\n",
        "import re\n"
      ],
      "execution_count": null,
      "outputs": [
        {
          "output_type": "stream",
          "text": [
            "/usr/local/lib/python3.6/dist-packages/statsmodels/tools/_testing.py:19: FutureWarning: pandas.util.testing is deprecated. Use the functions in the public API at pandas.testing instead.\n",
            "  import pandas.util.testing as tm\n",
            "Using TensorFlow backend.\n"
          ],
          "name": "stderr"
        }
      ]
    },
    {
      "cell_type": "code",
      "metadata": {
        "id": "KEXfrs8YKzne",
        "colab": {
          "base_uri": "https://localhost:8080/",
          "height": 87
        },
        "outputId": "3c70c353-8311-4954-e8d9-8fda9a73e853"
      },
      "source": [
        "pipe = Pipeline([\n",
        "                 ('vect', CountVectorizer()),\n",
        "                 ('tfidf', TfidfTransformer()),\n",
        "                 ('model', LogisticRegression())])\n",
        "\n",
        "model = pipe.fit(X_train, y_train)\n",
        "\n",
        "prediction = model.predict(X_val)\n",
        "print('=================')\n",
        "\n",
        "print('====== Logistic Regression Model Performance ===========')\n",
        "\n",
        "print(\"Logistic Regression accuracy: {}%\".format(round(accuracy_score(y_val, prediction)*100,2)))\n",
        "print('=================')\n"
      ],
      "execution_count": null,
      "outputs": [
        {
          "output_type": "stream",
          "text": [
            "=================\n",
            "====== Logistic Regression Model Performance ===========\n",
            "Logistic Regression accuracy: 83.98%\n",
            "=================\n"
          ],
          "name": "stdout"
        }
      ]
    },
    {
      "cell_type": "code",
      "metadata": {
        "id": "Zs1saW3lNKpd",
        "colab": {
          "base_uri": "https://localhost:8080/",
          "height": 87
        },
        "outputId": "67079251-5c13-4a99-8ec5-895857453e2f"
      },
      "source": [
        "pipe = Pipeline([\n",
        "                 ('vect', CountVectorizer()),\n",
        "                 ('tfidf', TfidfTransformer()),\n",
        "                 ('model', LinearSVC())])\n",
        "\n",
        "model = pipe.fit(X_train, y_train)\n",
        "\n",
        "prediction = model.predict(X_val)\n",
        "print('=================')\n",
        "\n",
        "print('====== LinearSVC Model Performance ===========')\n",
        "\n",
        "print(\"Logistic Regression accuracy: {}%\".format(round(accuracy_score(y_val, prediction)*100,2)))\n",
        "print('=================')\n"
      ],
      "execution_count": null,
      "outputs": [
        {
          "output_type": "stream",
          "text": [
            "=================\n",
            "====== LinearSVC Model Performance ===========\n",
            "Logistic Regression accuracy: 84.88%\n",
            "=================\n"
          ],
          "name": "stdout"
        }
      ]
    },
    {
      "cell_type": "code",
      "metadata": {
        "id": "gZfwVZp2NXYW"
      },
      "source": [
        "labels={ 'negative':1,'positive':2 ,'neutral':0 }\n",
        "\n",
        "# %% [code]\n",
        "train['sentiment'].replace(labels,inplace=True)\n",
        "test['sentiment'].replace(labels,inplace=True)\n"
      ],
      "execution_count": null,
      "outputs": []
    },
    {
      "cell_type": "code",
      "metadata": {
        "id": "kA44hgD9SSfM"
      },
      "source": [
        "labels={True:0,False:1 }\n",
        "\n",
        "# %% [code]\n",
        "train['sarcasm'].replace(labels,inplace=True)\n",
        "test['sarcasm'].replace(labels,inplace=True)\n"
      ],
      "execution_count": null,
      "outputs": []
    },
    {
      "cell_type": "code",
      "metadata": {
        "id": "Y9nyLwPSNq1o",
        "colab": {
          "base_uri": "https://localhost:8080/",
          "height": 197
        },
        "outputId": "a91289eb-6efb-4f1f-a77c-6e4dafeffed3"
      },
      "source": [
        "train.head()"
      ],
      "execution_count": null,
      "outputs": [
        {
          "output_type": "execute_result",
          "data": {
            "text/html": [
              "<div>\n",
              "<style scoped>\n",
              "    .dataframe tbody tr th:only-of-type {\n",
              "        vertical-align: middle;\n",
              "    }\n",
              "\n",
              "    .dataframe tbody tr th {\n",
              "        vertical-align: top;\n",
              "    }\n",
              "\n",
              "    .dataframe thead th {\n",
              "        text-align: right;\n",
              "    }\n",
              "</style>\n",
              "<table border=\"1\" class=\"dataframe\">\n",
              "  <thead>\n",
              "    <tr style=\"text-align: right;\">\n",
              "      <th></th>\n",
              "      <th>dialect</th>\n",
              "      <th>sarcasm</th>\n",
              "      <th>sentiment</th>\n",
              "      <th>original_sentiment</th>\n",
              "      <th>tweet</th>\n",
              "      <th>source</th>\n",
              "    </tr>\n",
              "  </thead>\n",
              "  <tbody>\n",
              "    <tr>\n",
              "      <th>0</th>\n",
              "      <td>gulf</td>\n",
              "      <td>1</td>\n",
              "      <td>1</td>\n",
              "      <td>negative</td>\n",
              "      <td>نصيحه ما عمرك اتنزل لعبة سوبر ماريو مش زي ما ك...</td>\n",
              "      <td>semeval</td>\n",
              "    </tr>\n",
              "    <tr>\n",
              "      <th>1</th>\n",
              "      <td>msa</td>\n",
              "      <td>1</td>\n",
              "      <td>0</td>\n",
              "      <td>positive</td>\n",
              "      <td>نادين نسيب نجيم ماري كلير ملكة الصحراء</td>\n",
              "      <td>semeval</td>\n",
              "    </tr>\n",
              "    <tr>\n",
              "      <th>2</th>\n",
              "      <td>egypt</td>\n",
              "      <td>1</td>\n",
              "      <td>0</td>\n",
              "      <td>neutral</td>\n",
              "      <td>اتوقع انه بيستمر</td>\n",
              "      <td>semeval</td>\n",
              "    </tr>\n",
              "    <tr>\n",
              "      <th>3</th>\n",
              "      <td>levant</td>\n",
              "      <td>0</td>\n",
              "      <td>0</td>\n",
              "      <td>negative</td>\n",
              "      <td>يعني بموافقتنا لأن دمشق صايرة موسكو</td>\n",
              "      <td>semeval</td>\n",
              "    </tr>\n",
              "    <tr>\n",
              "      <th>4</th>\n",
              "      <td>msa</td>\n",
              "      <td>1</td>\n",
              "      <td>0</td>\n",
              "      <td>negative</td>\n",
              "      <td>قائد في الحرس يعترف بفقدان السيطرة الأمنية في ...</td>\n",
              "      <td>semeval</td>\n",
              "    </tr>\n",
              "  </tbody>\n",
              "</table>\n",
              "</div>"
            ],
            "text/plain": [
              "  dialect  sarcasm  ...                                              tweet   source\n",
              "0    gulf        1  ...  نصيحه ما عمرك اتنزل لعبة سوبر ماريو مش زي ما ك...  semeval\n",
              "1     msa        1  ...             نادين نسيب نجيم ماري كلير ملكة الصحراء  semeval\n",
              "2   egypt        1  ...                                   اتوقع انه بيستمر  semeval\n",
              "3  levant        0  ...                يعني بموافقتنا لأن دمشق صايرة موسكو  semeval\n",
              "4     msa        1  ...  قائد في الحرس يعترف بفقدان السيطرة الأمنية في ...  semeval\n",
              "\n",
              "[5 rows x 6 columns]"
            ]
          },
          "metadata": {
            "tags": []
          },
          "execution_count": 38
        }
      ]
    },
    {
      "cell_type": "code",
      "metadata": {
        "id": "HhN1sZwnim6P"
      },
      "source": [
        "from keras.preprocessing import text, sequence\n"
      ],
      "execution_count": null,
      "outputs": []
    },
    {
      "cell_type": "code",
      "metadata": {
        "id": "mJRwEkobOMYJ"
      },
      "source": [
        ""
      ],
      "execution_count": null,
      "outputs": []
    },
    {
      "cell_type": "code",
      "metadata": {
        "id": "M2vV32GGO1fK",
        "colab": {
          "base_uri": "https://localhost:8080/",
          "height": 34
        },
        "outputId": "71f00f14-2bd2-4a2c-fccd-68568fe454ad"
      },
      "source": [
        "import keras\n",
        "from keras.preprocessing.text import one_hot, Tokenizer\n",
        "from keras.preprocessing.sequence import pad_sequences\n",
        "from keras.layers import Bidirectional,LSTM,Flatten,Dense\n",
        "from keras.layers.embeddings import Embedding\n",
        "from keras.models import Sequential\n",
        "\n",
        "\n",
        "max_num_words = 40000\n",
        "max_length = 150\n",
        "tokenizer = Tokenizer(num_words=max_num_words)\n",
        "tokenizer.fit_on_texts(X_train)\n",
        "word_index = tokenizer.word_index\n",
        "print('Found %s unique tokens.' % len(word_index))\n"
      ],
      "execution_count": null,
      "outputs": [
        {
          "output_type": "stream",
          "text": [
            "Found 33382 unique tokens.\n"
          ],
          "name": "stdout"
        }
      ]
    },
    {
      "cell_type": "code",
      "metadata": {
        "id": "wWKbMbN-I2bM"
      },
      "source": [
        "tokenizer = Tokenizer(num_words=max_num_words)\n",
        "tokenizer.fit_on_texts(list(X_train))\n",
        "list_tokenized_train = tokenizer.texts_to_sequences(X_train)\n",
        "list_tokenized_test = tokenizer.texts_to_sequences(X_val)\n",
        "X_t = pad_sequences(list_tokenized_train, maxlen=max_length)\n",
        "X_te = pad_sequences(list_tokenized_test, maxlen=max_length)\n"
      ],
      "execution_count": null,
      "outputs": []
    },
    {
      "cell_type": "code",
      "metadata": {
        "id": "NlQRn91Mn5h8"
      },
      "source": [
        "import keras\n",
        "from keras.preprocessing.text import one_hot, Tokenizer\n",
        "from keras.preprocessing.sequence import pad_sequences\n"
      ],
      "execution_count": null,
      "outputs": []
    },
    {
      "cell_type": "code",
      "metadata": {
        "id": "PsgRi9_OhRsk"
      },
      "source": [
        " "
      ],
      "execution_count": null,
      "outputs": []
    },
    {
      "cell_type": "code",
      "metadata": {
        "id": "Ke8JQcnriskP"
      },
      "source": [
        " "
      ],
      "execution_count": null,
      "outputs": []
    },
    {
      "cell_type": "code",
      "metadata": {
        "id": "5rkPCiqWi2AQ"
      },
      "source": [
        " "
      ],
      "execution_count": null,
      "outputs": []
    },
    {
      "cell_type": "code",
      "metadata": {
        "id": "xg1KK6tOjQia",
        "colab": {
          "base_uri": "https://localhost:8080/",
          "height": 406
        },
        "outputId": "9fb69ebb-6ba4-475d-8dd3-9686785604d9"
      },
      "source": [
        "y_test= pd.get_dummies(y_val)\n",
        "y_test"
      ],
      "execution_count": null,
      "outputs": [
        {
          "output_type": "execute_result",
          "data": {
            "text/html": [
              "<div>\n",
              "<style scoped>\n",
              "    .dataframe tbody tr th:only-of-type {\n",
              "        vertical-align: middle;\n",
              "    }\n",
              "\n",
              "    .dataframe tbody tr th {\n",
              "        vertical-align: top;\n",
              "    }\n",
              "\n",
              "    .dataframe thead th {\n",
              "        text-align: right;\n",
              "    }\n",
              "</style>\n",
              "<table border=\"1\" class=\"dataframe\">\n",
              "  <thead>\n",
              "    <tr style=\"text-align: right;\">\n",
              "      <th></th>\n",
              "      <th>0</th>\n",
              "      <th>1</th>\n",
              "      <th>2</th>\n",
              "    </tr>\n",
              "  </thead>\n",
              "  <tbody>\n",
              "    <tr>\n",
              "      <th>0</th>\n",
              "      <td>0</td>\n",
              "      <td>1</td>\n",
              "      <td>0</td>\n",
              "    </tr>\n",
              "    <tr>\n",
              "      <th>1</th>\n",
              "      <td>0</td>\n",
              "      <td>0</td>\n",
              "      <td>1</td>\n",
              "    </tr>\n",
              "    <tr>\n",
              "      <th>2</th>\n",
              "      <td>1</td>\n",
              "      <td>0</td>\n",
              "      <td>0</td>\n",
              "    </tr>\n",
              "    <tr>\n",
              "      <th>3</th>\n",
              "      <td>1</td>\n",
              "      <td>0</td>\n",
              "      <td>0</td>\n",
              "    </tr>\n",
              "    <tr>\n",
              "      <th>4</th>\n",
              "      <td>1</td>\n",
              "      <td>0</td>\n",
              "      <td>0</td>\n",
              "    </tr>\n",
              "    <tr>\n",
              "      <th>...</th>\n",
              "      <td>...</td>\n",
              "      <td>...</td>\n",
              "      <td>...</td>\n",
              "    </tr>\n",
              "    <tr>\n",
              "      <th>2105</th>\n",
              "      <td>1</td>\n",
              "      <td>0</td>\n",
              "      <td>0</td>\n",
              "    </tr>\n",
              "    <tr>\n",
              "      <th>2106</th>\n",
              "      <td>1</td>\n",
              "      <td>0</td>\n",
              "      <td>0</td>\n",
              "    </tr>\n",
              "    <tr>\n",
              "      <th>2107</th>\n",
              "      <td>1</td>\n",
              "      <td>0</td>\n",
              "      <td>0</td>\n",
              "    </tr>\n",
              "    <tr>\n",
              "      <th>2108</th>\n",
              "      <td>0</td>\n",
              "      <td>0</td>\n",
              "      <td>1</td>\n",
              "    </tr>\n",
              "    <tr>\n",
              "      <th>2109</th>\n",
              "      <td>0</td>\n",
              "      <td>1</td>\n",
              "      <td>0</td>\n",
              "    </tr>\n",
              "  </tbody>\n",
              "</table>\n",
              "<p>2110 rows × 3 columns</p>\n",
              "</div>"
            ],
            "text/plain": [
              "      0  1  2\n",
              "0     0  1  0\n",
              "1     0  0  1\n",
              "2     1  0  0\n",
              "3     1  0  0\n",
              "4     1  0  0\n",
              "...  .. .. ..\n",
              "2105  1  0  0\n",
              "2106  1  0  0\n",
              "2107  1  0  0\n",
              "2108  0  0  1\n",
              "2109  0  1  0\n",
              "\n",
              "[2110 rows x 3 columns]"
            ]
          },
          "metadata": {
            "tags": []
          },
          "execution_count": 42
        }
      ]
    },
    {
      "cell_type": "code",
      "metadata": {
        "id": "ZKvdK0F-jJ2K"
      },
      "source": [
        "Y = pd.get_dummies(y_train)\n"
      ],
      "execution_count": null,
      "outputs": []
    },
    {
      "cell_type": "code",
      "metadata": {
        "id": "r97lTGz4jXx5"
      },
      "source": [
        " "
      ],
      "execution_count": null,
      "outputs": []
    },
    {
      "cell_type": "code",
      "metadata": {
        "id": "ywjIKCt5uK4K"
      },
      "source": [
        "import keras\n",
        "from keras.preprocessing.text import one_hot, Tokenizer\n",
        "from keras.preprocessing.sequence import pad_sequences\n",
        "from keras.layers import Bidirectional,LSTM,Dense\n",
        "from keras.layers.embeddings import Embedding\n",
        "from keras.models import Sequential\n",
        "model = Sequential()\n",
        " \n",
        "model.add(Embedding(40000, 100, input_length=150))\n",
        "\n",
        "\n",
        "model.add(LSTM(units=250, return_sequences=True, dropout=0.1, recurrent_dropout=0.2))\n",
        "  \n",
        "model.add(Flatten())\n",
        "model.add(Dense(400, activation='relu'))\n",
        "\n",
        "model.add(Dense(1, activation='sigmoid'))\n",
        "model.compile(optimizer='adam', loss='binary_crossentropy', metrics=['accuracy'])\n"
      ],
      "execution_count": null,
      "outputs": []
    },
    {
      "cell_type": "code",
      "metadata": {
        "id": "lYrwYt0rjovO",
        "colab": {
          "base_uri": "https://localhost:8080/",
          "height": 623
        },
        "outputId": "46c16d5d-4492-4ea2-c55a-54ef6b735aa1"
      },
      "source": [
        "history= model.fit(X_t, y_train, validation_data=(X_te, y_val), epochs=15,batch_size=100)"
      ],
      "execution_count": null,
      "outputs": [
        {
          "output_type": "stream",
          "text": [
            "/usr/local/lib/python3.6/dist-packages/tensorflow/python/framework/indexed_slices.py:434: UserWarning: Converting sparse IndexedSlices to a dense Tensor of unknown shape. This may consume a large amount of memory.\n",
            "  \"Converting sparse IndexedSlices to a dense Tensor of unknown shape. \"\n"
          ],
          "name": "stderr"
        },
        {
          "output_type": "stream",
          "text": [
            "Train on 8437 samples, validate on 2110 samples\n",
            "Epoch 1/15\n",
            "8437/8437 [==============================] - 27s 3ms/step - loss: 0.4126 - accuracy: 0.8431 - val_loss: 0.3707 - val_accuracy: 0.8412\n",
            "Epoch 2/15\n",
            "8437/8437 [==============================] - 25s 3ms/step - loss: 0.1754 - accuracy: 0.9317 - val_loss: 0.4989 - val_accuracy: 0.8379\n",
            "Epoch 3/15\n",
            "8437/8437 [==============================] - 25s 3ms/step - loss: 0.0542 - accuracy: 0.9835 - val_loss: 0.6243 - val_accuracy: 0.8379\n",
            "Epoch 4/15\n",
            "8437/8437 [==============================] - 25s 3ms/step - loss: 0.0367 - accuracy: 0.9912 - val_loss: 0.6902 - val_accuracy: 0.8379\n",
            "Epoch 5/15\n",
            "8437/8437 [==============================] - 25s 3ms/step - loss: 0.0315 - accuracy: 0.9912 - val_loss: 0.7271 - val_accuracy: 0.8417\n",
            "Epoch 6/15\n",
            "8437/8437 [==============================] - 25s 3ms/step - loss: 0.0268 - accuracy: 0.9928 - val_loss: 0.7332 - val_accuracy: 0.8313\n",
            "Epoch 7/15\n",
            "8437/8437 [==============================] - 25s 3ms/step - loss: 0.0241 - accuracy: 0.9929 - val_loss: 0.6462 - val_accuracy: 0.8318\n",
            "Epoch 8/15\n",
            "8437/8437 [==============================] - 25s 3ms/step - loss: 0.0265 - accuracy: 0.9935 - val_loss: 0.6379 - val_accuracy: 0.8365\n",
            "Epoch 9/15\n",
            "8437/8437 [==============================] - 25s 3ms/step - loss: 0.0198 - accuracy: 0.9930 - val_loss: 0.7411 - val_accuracy: 0.8336\n",
            "Epoch 10/15\n",
            "8437/8437 [==============================] - 25s 3ms/step - loss: 0.0384 - accuracy: 0.9931 - val_loss: 0.7959 - val_accuracy: 0.8213\n",
            "Epoch 11/15\n",
            "8437/8437 [==============================] - 25s 3ms/step - loss: 0.0244 - accuracy: 0.9931 - val_loss: 1.0609 - val_accuracy: 0.8393\n",
            "Epoch 12/15\n",
            "8437/8437 [==============================] - 25s 3ms/step - loss: 0.0137 - accuracy: 0.9934 - val_loss: 0.9566 - val_accuracy: 0.8389\n",
            "Epoch 13/15\n",
            "8437/8437 [==============================] - 25s 3ms/step - loss: 0.0175 - accuracy: 0.9937 - val_loss: 1.0505 - val_accuracy: 0.8412\n",
            "Epoch 14/15\n",
            "8437/8437 [==============================] - 25s 3ms/step - loss: 0.0120 - accuracy: 0.9941 - val_loss: 0.9834 - val_accuracy: 0.8318\n",
            "Epoch 15/15\n",
            "8437/8437 [==============================] - 25s 3ms/step - loss: 0.0095 - accuracy: 0.9942 - val_loss: 1.2757 - val_accuracy: 0.8403\n"
          ],
          "name": "stdout"
        }
      ]
    },
    {
      "cell_type": "code",
      "metadata": {
        "id": "Xh7WZ6cpXf1n",
        "colab": {
          "base_uri": "https://localhost:8080/",
          "height": 591
        },
        "outputId": "9f52a8e4-b7a3-421b-ea89-f0202e76bcf6"
      },
      "source": [
        "print(history.history.keys())\n",
        "# summarize history for accuracy\n",
        "plt.plot(history.history['accuracy'])\n",
        "plt.plot(history.history['val_accuracy'])\n",
        "plt.title('model accuracy')\n",
        "plt.ylabel('accuracy')\n",
        "plt.xlabel('epoch')\n",
        "plt.legend(['train', 'test'], loc='upper left')\n",
        "plt.show()\n",
        "# summarize history for loss\n",
        "plt.plot(history.history['loss'])\n",
        "plt.plot(history.history['val_loss'])\n",
        "plt.title('model loss')\n",
        "plt.ylabel('loss')\n",
        "plt.xlabel('epoch')\n",
        "plt.legend(['train', 'test'], loc='upper left')\n",
        "plt.show()"
      ],
      "execution_count": null,
      "outputs": [
        {
          "output_type": "stream",
          "text": [
            "dict_keys(['val_loss', 'val_accuracy', 'loss', 'accuracy'])\n"
          ],
          "name": "stdout"
        },
        {
          "output_type": "display_data",
          "data": {
            "image/png": "[encoded data removed]",
            "text/plain": [
              "<Figure size 432x288 with 1 Axes>"
            ]
          },
          "metadata": {
            "tags": [],
            "needs_background": "light"
          }
        },
        {
          "output_type": "display_data",
          "data": {
            "image/png": "[encoded data removed]",
            "text/plain": [
              "<Figure size 432x288 with 1 Axes>"
            ]
          },
          "metadata": {
            "tags": [],
            "needs_background": "light"
          }
        }
      ]
    },
    {
      "cell_type": "code",
      "metadata": {
        "id": "hLtu9MyaOxLj",
        "colab": {
          "base_uri": "https://localhost:8080/",
          "height": 70
        },
        "outputId": "9bdee63e-093f-49d9-e825-3c5e5e246fa4"
      },
      "source": [
        "train.sarcasm.value_counts()"
      ],
      "execution_count": null,
      "outputs": [
        {
          "output_type": "execute_result",
          "data": {
            "text/plain": [
              "False    7100\n",
              "True     1337\n",
              "Name: sarcasm, dtype: int64"
            ]
          },
          "metadata": {
            "tags": []
          },
          "execution_count": 33
        }
      ]
    },
    {
      "cell_type": "code",
      "metadata": {
        "id": "sUeMgClUSFuC",
        "colab": {
          "base_uri": "https://localhost:8080/",
          "height": 406
        },
        "outputId": "276b9178-b168-43d0-ea18-c34358a0806f"
      },
      "source": [
        "y_val"
      ],
      "execution_count": null,
      "outputs": [
        {
          "output_type": "execute_result",
          "data": {
            "text/html": [
              "<div>\n",
              "<style scoped>\n",
              "    .dataframe tbody tr th:only-of-type {\n",
              "        vertical-align: middle;\n",
              "    }\n",
              "\n",
              "    .dataframe tbody tr th {\n",
              "        vertical-align: top;\n",
              "    }\n",
              "\n",
              "    .dataframe thead th {\n",
              "        text-align: right;\n",
              "    }\n",
              "</style>\n",
              "<table border=\"1\" class=\"dataframe\">\n",
              "  <thead>\n",
              "    <tr style=\"text-align: right;\">\n",
              "      <th></th>\n",
              "      <th>0</th>\n",
              "      <th>1</th>\n",
              "      <th>2</th>\n",
              "    </tr>\n",
              "  </thead>\n",
              "  <tbody>\n",
              "    <tr>\n",
              "      <th>0</th>\n",
              "      <td>0</td>\n",
              "      <td>1</td>\n",
              "      <td>0</td>\n",
              "    </tr>\n",
              "    <tr>\n",
              "      <th>1</th>\n",
              "      <td>0</td>\n",
              "      <td>0</td>\n",
              "      <td>1</td>\n",
              "    </tr>\n",
              "    <tr>\n",
              "      <th>2</th>\n",
              "      <td>1</td>\n",
              "      <td>0</td>\n",
              "      <td>0</td>\n",
              "    </tr>\n",
              "    <tr>\n",
              "      <th>3</th>\n",
              "      <td>1</td>\n",
              "      <td>0</td>\n",
              "      <td>0</td>\n",
              "    </tr>\n",
              "    <tr>\n",
              "      <th>4</th>\n",
              "      <td>1</td>\n",
              "      <td>0</td>\n",
              "      <td>0</td>\n",
              "    </tr>\n",
              "    <tr>\n",
              "      <th>...</th>\n",
              "      <td>...</td>\n",
              "      <td>...</td>\n",
              "      <td>...</td>\n",
              "    </tr>\n",
              "    <tr>\n",
              "      <th>2105</th>\n",
              "      <td>1</td>\n",
              "      <td>0</td>\n",
              "      <td>0</td>\n",
              "    </tr>\n",
              "    <tr>\n",
              "      <th>2106</th>\n",
              "      <td>1</td>\n",
              "      <td>0</td>\n",
              "      <td>0</td>\n",
              "    </tr>\n",
              "    <tr>\n",
              "      <th>2107</th>\n",
              "      <td>1</td>\n",
              "      <td>0</td>\n",
              "      <td>0</td>\n",
              "    </tr>\n",
              "    <tr>\n",
              "      <th>2108</th>\n",
              "      <td>0</td>\n",
              "      <td>0</td>\n",
              "      <td>1</td>\n",
              "    </tr>\n",
              "    <tr>\n",
              "      <th>2109</th>\n",
              "      <td>0</td>\n",
              "      <td>1</td>\n",
              "      <td>0</td>\n",
              "    </tr>\n",
              "  </tbody>\n",
              "</table>\n",
              "<p>2110 rows × 3 columns</p>\n",
              "</div>"
            ],
            "text/plain": [
              "      0  1  2\n",
              "0     0  1  0\n",
              "1     0  0  1\n",
              "2     1  0  0\n",
              "3     1  0  0\n",
              "4     1  0  0\n",
              "...  .. .. ..\n",
              "2105  1  0  0\n",
              "2106  1  0  0\n",
              "2107  1  0  0\n",
              "2108  0  0  1\n",
              "2109  0  1  0\n",
              "\n",
              "[2110 rows x 3 columns]"
            ]
          },
          "metadata": {
            "tags": []
          },
          "execution_count": 51
        }
      ]
    },
    {
      "cell_type": "code",
      "metadata": {
        "id": "08BYh3PjVmI6"
      },
      "source": [
        " "
      ],
      "execution_count": null,
      "outputs": []
    },
    {
      "cell_type": "code",
      "metadata": {
        "id": "z_FqirkSAJGW"
      },
      "source": [
        ""
      ],
      "execution_count": null,
      "outputs": []
    }
  ]
}